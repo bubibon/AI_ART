{
  "nbformat": 4,
  "nbformat_minor": 0,
  "metadata": {
    "colab": {
      "name": "FID.ipynb",
      "provenance": [],
      "machine_shape": "hm",
      "mount_file_id": "1OJLCG8E3x9PVTyxRc5XexklBHXrc7cw0",
      "authorship_tag": "ABX9TyONWTGPJKywRNlH/slyk1mq",
      "include_colab_link": true
    },
    "kernelspec": {
      "name": "python3",
      "display_name": "Python 3"
    },
    "language_info": {
      "name": "python"
    },
    "accelerator": "GPU"
  },
  "cells": [
    {
      "cell_type": "markdown",
      "metadata": {
        "id": "view-in-github",
        "colab_type": "text"
      },
      "source": [
        "<a href=\"https://colab.research.google.com/github/bubibon/AI_ART/blob/master/FID.ipynb\" target=\"_parent\"><img src=\"https://colab.research.google.com/assets/colab-badge.svg\" alt=\"Open In Colab\"/></a>"
      ]
    },
    {
      "cell_type": "markdown",
      "source": [
        "# FID evaluation\n",
        "\n",
        "FID computation implementation by \n",
        "\n",
        "https://github.com/mseitzer/pytorch-fid"
      ],
      "metadata": {
        "id": "CkzZ_kCytq86"
      }
    },
    {
      "cell_type": "code",
      "source": [
        "!pip install pytorch-fid"
      ],
      "metadata": {
        "colab": {
          "base_uri": "https://localhost:8080/"
        },
        "id": "8539_R2-qg_c",
        "outputId": "8977a401-9ece-47b2-cee2-5d11f34de02f"
      },
      "execution_count": null,
      "outputs": [
        {
          "output_type": "stream",
          "name": "stdout",
          "text": [
            "Collecting pytorch-fid\n",
            "  Downloading pytorch-fid-0.2.1.tar.gz (14 kB)\n",
            "Requirement already satisfied: numpy in /usr/local/lib/python3.7/dist-packages (from pytorch-fid) (1.21.5)\n",
            "Requirement already satisfied: pillow in /usr/local/lib/python3.7/dist-packages (from pytorch-fid) (7.1.2)\n",
            "Requirement already satisfied: scipy in /usr/local/lib/python3.7/dist-packages (from pytorch-fid) (1.4.1)\n",
            "Requirement already satisfied: torch>=1.0.1 in /usr/local/lib/python3.7/dist-packages (from pytorch-fid) (1.10.0+cu111)\n",
            "Requirement already satisfied: torchvision>=0.2.2 in /usr/local/lib/python3.7/dist-packages (from pytorch-fid) (0.11.1+cu111)\n",
            "Requirement already satisfied: typing-extensions in /usr/local/lib/python3.7/dist-packages (from torch>=1.0.1->pytorch-fid) (3.10.0.2)\n",
            "Building wheels for collected packages: pytorch-fid\n",
            "  Building wheel for pytorch-fid (setup.py) ... \u001b[?25l\u001b[?25hdone\n",
            "  Created wheel for pytorch-fid: filename=pytorch_fid-0.2.1-py3-none-any.whl size=14835 sha256=3cef7076634bc2959ea3eb3350589967922621e563213517958c9466e7e54633\n",
            "  Stored in directory: /root/.cache/pip/wheels/24/ac/03/c5634775c8a64f702343ef5923278f8d3bb8c651debc4a6890\n",
            "Successfully built pytorch-fid\n",
            "Installing collected packages: pytorch-fid\n",
            "Successfully installed pytorch-fid-0.2.1\n"
          ]
        }
      ]
    },
    {
      "cell_type": "code",
      "source": [
        "!python -m pytorch_fid --help"
      ],
      "metadata": {
        "colab": {
          "base_uri": "https://localhost:8080/"
        },
        "id": "PR3nY0C4rZBl",
        "outputId": "4f6472e7-7e80-44b0-c5ba-9d1a289ad576"
      },
      "execution_count": null,
      "outputs": [
        {
          "output_type": "stream",
          "name": "stdout",
          "text": [
            "usage: __main__.py [-h] [--batch-size BATCH_SIZE] [--num-workers NUM_WORKERS]\n",
            "                   [--device DEVICE] [--dims {64,192,768,2048}]\n",
            "                   path path\n",
            "\n",
            "positional arguments:\n",
            "  path                  Paths to the generated images or to .npz statistic\n",
            "                        files\n",
            "\n",
            "optional arguments:\n",
            "  -h, --help            show this help message and exit\n",
            "  --batch-size BATCH_SIZE\n",
            "                        Batch size to use (default: 50)\n",
            "  --num-workers NUM_WORKERS\n",
            "                        Number of processes to use for data loading. Defaults\n",
            "                        to `min(8, num_cpus)` (default: None)\n",
            "  --device DEVICE       Device to use. Like cuda, cuda:0 or cpu (default:\n",
            "                        None)\n",
            "  --dims {64,192,768,2048}\n",
            "                        Dimensionality of Inception features to use. By\n",
            "                        default, uses pool3 features (default: 2048)\n"
          ]
        }
      ]
    },
    {
      "cell_type": "markdown",
      "source": [
        "Here we are trying first to compute FID for the whole dataset vs 5000 generates sample images from the various models. "
      ],
      "metadata": {
        "id": "Nxqxwa8eykLZ"
      }
    },
    {
      "cell_type": "code",
      "source": [
        "!python -m pytorch_fid /content/drive/MyDrive/impressionist_landscapes_resized_1024 /content/drive/MyDrive/GENERATED_IMAGES/FROM_SCRATCH --device cuda:0"
      ],
      "metadata": {
        "colab": {
          "base_uri": "https://localhost:8080/"
        },
        "id": "Wcx2Z5B2qlg6",
        "outputId": "2e19a5af-283e-48f7-d2ba-2f5cca2843e8"
      },
      "execution_count": null,
      "outputs": [
        {
          "output_type": "stream",
          "name": "stdout",
          "text": [
            "100% 100/100 [03:05<00:00,  1.85s/it]\n",
            "100% 100/100 [09:33<00:00,  5.74s/it]\n",
            "FID:  31.551734299874624\n"
          ]
        }
      ]
    },
    {
      "cell_type": "code",
      "source": [
        "!python -m pytorch_fid /content/drive/MyDrive/impressionist_landscapes_resized_1024 /content/drive/MyDrive/GENERATED_IMAGES/TRANSFER_L --device cuda:0"
      ],
      "metadata": {
        "colab": {
          "base_uri": "https://localhost:8080/"
        },
        "id": "2KbrEywsrI5q",
        "outputId": "2b5bf26d-7ee3-4c54-cbe8-6ba25c4c745f"
      },
      "execution_count": null,
      "outputs": [
        {
          "output_type": "stream",
          "name": "stdout",
          "text": [
            "100% 100/100 [01:40<00:00,  1.00s/it]\n",
            "100% 100/100 [13:13<00:00,  7.93s/it]\n",
            "FID:  25.957871990116473\n"
          ]
        }
      ]
    },
    {
      "cell_type": "code",
      "source": [
        "!python -m pytorch_fid /content/drive/MyDrive/impressionist_landscapes_resized_1024 /content/drive/MyDrive/GENERATED_IMAGES/TF_FREEZED --device cuda:0"
      ],
      "metadata": {
        "colab": {
          "base_uri": "https://localhost:8080/"
        },
        "id": "sQPTUdK21IaD",
        "outputId": "eb6088ba-7ca7-43ac-c5b8-2534f9c4c934"
      },
      "execution_count": null,
      "outputs": [
        {
          "output_type": "stream",
          "name": "stdout",
          "text": [
            "100% 100/100 [01:40<00:00,  1.00s/it]\n",
            "100% 100/100 [10:32<00:00,  6.32s/it]\n",
            "FID:  69.35459961831333\n"
          ]
        }
      ]
    },
    {
      "cell_type": "markdown",
      "source": [
        "For a more realistic FID computation, the dataset of real images should not include the 4500 ones used for training the models. For this reason it is more appropriate to compare 500 generated samples against the previously extracted test set of 500 real paintings. The problem in this case is related to its computation, 500 i"
      ],
      "metadata": {
        "id": "EHe4qhh_yz1C"
      }
    },
    {
      "cell_type": "code",
      "source": [
        "#Creating a temporary directory containing 500 random generated samples\n",
        "%mkdir /content/scratch\n",
        "dirpath= '/content/drive/MyDrive/GENERATED_IMAGES/FROM_SCRATCH/'\n",
        "filenames = random.sample(os.listdir(dirpath), 500) \n",
        "for fname in filenames:\n",
        "  source = dirpath+fname\n",
        "  destination = '/content/scratch/' + fname\n",
        "  shutil.copy(source, destination)\n",
        "\n",
        "len(os.listdir('/content/scratch/'))\n"
      ],
      "metadata": {
        "id": "EGsvPDOIlB0y"
      },
      "execution_count": null,
      "outputs": []
    },
    {
      "cell_type": "code",
      "source": [
        "!python -m pytorch_fid /content/drive/MyDrive/Data/test /content/scratch/ --device cuda:0"
      ],
      "metadata": {
        "colab": {
          "base_uri": "https://localhost:8080/"
        },
        "id": "GTzeGeB1k81W",
        "outputId": "357e8021-25b0-4e94-e14a-7075fcf8b64c"
      },
      "execution_count": null,
      "outputs": [
        {
          "output_type": "stream",
          "name": "stdout",
          "text": [
            "Downloading: \"https://github.com/mseitzer/pytorch-fid/releases/download/fid_weights/pt_inception-2015-12-05-6726825d.pth\" to /root/.cache/torch/hub/checkpoints/pt_inception-2015-12-05-6726825d.pth\n",
            "100% 91.2M/91.2M [00:00<00:00, 132MB/s]\n",
            "100% 10/10 [00:13<00:00,  1.31s/it]\n",
            "100% 10/10 [00:16<00:00,  1.64s/it]\n",
            "FID:  75.72903789654325\n"
          ]
        }
      ]
    },
    {
      "cell_type": "code",
      "source": [
        "#Creating a temporary directory containing 500 random generated samples\n",
        "%mkdir /content/tf\n",
        "dirpath= '/content/drive/MyDrive/GENERATED_IMAGES/TRANSFER_L/'\n",
        "filenames = random.sample(os.listdir(dirpath), 500) \n",
        "for fname in filenames:\n",
        "  source = dirpath+fname\n",
        "  destination = '/content/tf/' + fname\n",
        "  shutil.copy(source, destination)\n",
        "\n",
        "len(os.listdir('/content/tf/'))"
      ],
      "metadata": {
        "id": "EI7dXt5sxozM"
      },
      "execution_count": null,
      "outputs": []
    },
    {
      "cell_type": "code",
      "source": [
        "!python -m pytorch_fid /content/drive/MyDrive/Data/test /content/tf/ --device cuda:0"
      ],
      "metadata": {
        "colab": {
          "base_uri": "https://localhost:8080/"
        },
        "id": "P-4toBEexmRT",
        "outputId": "6bbc8cd5-f252-4181-c461-4a01c05a7b4f"
      },
      "execution_count": null,
      "outputs": [
        {
          "output_type": "stream",
          "name": "stdout",
          "text": [
            "100% 10/10 [00:12<00:00,  1.21s/it]\n",
            "100% 10/10 [00:16<00:00,  1.67s/it]\n",
            "FID:  73.10920139740375\n"
          ]
        }
      ]
    },
    {
      "cell_type": "markdown",
      "source": [
        "The calculated FID seem very high. This is probably due to the fact that 500 is an incredibly small sample dataset size for FID computation. To give a proof of that, we are going to calculate the FID between the test set and a random sample of 500 images used for training, to show that even if probably lower than compared to the ones calculated for the generated images, the FID will probably be very high."
      ],
      "metadata": {
        "id": "vKGmqZTr0NSD"
      }
    },
    {
      "cell_type": "code",
      "source": [
        "%mkdir /content/real"
      ],
      "metadata": {
        "id": "u1_zSbtMx_m8"
      },
      "execution_count": null,
      "outputs": []
    },
    {
      "cell_type": "code",
      "source": [
        "dirpath= '/content/drive/MyDrive/Data/train/'\n",
        "filenames = random.sample(os.listdir(dirpath), 500) \n",
        "for fname in filenames:\n",
        "  source = dirpath+fname\n",
        "  destination = '/content/real/' + fname\n",
        "  shutil.copy(source, destination)\n",
        "\n",
        "len(os.listdir('/content/real/'))"
      ],
      "metadata": {
        "colab": {
          "base_uri": "https://localhost:8080/"
        },
        "id": "ZmFdzO5RyCx1",
        "outputId": "a6dbeba5-356e-420c-e394-9b3c4e21e97c"
      },
      "execution_count": null,
      "outputs": [
        {
          "output_type": "execute_result",
          "data": {
            "text/plain": [
              "500"
            ]
          },
          "metadata": {},
          "execution_count": 46
        }
      ]
    },
    {
      "cell_type": "code",
      "source": [
        "!python -m pytorch_fid /content/drive/MyDrive/Data/test /content/real/ --device cuda:0"
      ],
      "metadata": {
        "colab": {
          "base_uri": "https://localhost:8080/"
        },
        "id": "2ImVJJ3HyVxl",
        "outputId": "4376f6e8-72d9-4fc6-dd85-cda5bda28c8c"
      },
      "execution_count": null,
      "outputs": [
        {
          "output_type": "stream",
          "name": "stdout",
          "text": [
            "100% 10/10 [00:11<00:00,  1.18s/it]\n",
            "100% 10/10 [00:10<00:00,  1.09s/it]\n",
            "FID:  64.16747185713473\n"
          ]
        }
      ]
    },
    {
      "cell_type": "markdown",
      "source": [
        "As expected, the FID between train and test images is pretty high."
      ],
      "metadata": {
        "id": "cF57T1zH0QKN"
      }
    }
  ]
}