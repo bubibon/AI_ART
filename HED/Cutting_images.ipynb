{
  "nbformat": 4,
  "nbformat_minor": 0,
  "metadata": {
    "colab": {
      "name": "Cutting images",
      "provenance": [],
      "collapsed_sections": [],
      "machine_shape": "hm",
      "include_colab_link": true
    },
    "kernelspec": {
      "name": "python3",
      "display_name": "Python 3"
    },
    "language_info": {
      "name": "python"
    }
  },
  "cells": [
    {
      "cell_type": "markdown",
      "metadata": {
        "id": "view-in-github",
        "colab_type": "text"
      },
      "source": [
        "<a href=\"https://colab.research.google.com/github/bubibon/AI_ART/blob/master/Cutting_images.ipynb\" target=\"_parent\"><img src=\"https://colab.research.google.com/assets/colab-badge.svg\" alt=\"Open In Colab\"/></a>"
      ]
    },
    {
      "cell_type": "markdown",
      "source": [
        "## Use this code to cut your output image from HED\n",
        "\n",
        "The edge_detector outputs a jpg file composed by the single image + HED version of it. To run it through StyleGAN2-ADA we need just the HED 1024x1024 image.\n"
      ],
      "metadata": {
        "id": "JC6_OmfQE_md"
      }
    },
    {
      "cell_type": "code",
      "source": [
        "from google.colab import drive\n",
        "drive.mount('/content/drive')"
      ],
      "metadata": {
        "colab": {
          "base_uri": "https://localhost:8080/"
        },
        "id": "kR0r6504pdaY",
        "outputId": "355b6d81-52b5-4439-d10e-5e9fbc630a1a"
      },
      "execution_count": null,
      "outputs": [
        {
          "output_type": "stream",
          "name": "stdout",
          "text": [
            "Mounted at /content/drive\n"
          ]
        }
      ]
    },
    {
      "cell_type": "code",
      "source": [
        "import os\n",
        "import PIL\n",
        "from PIL import Image"
      ],
      "metadata": {
        "id": "UG_8ZUKZE-Cv"
      },
      "execution_count": null,
      "outputs": []
    },
    {
      "cell_type": "code",
      "source": [
        "# Defining the input folder (HED outputfolder) and output folder (where you want to store just the HED image)\n",
        "inpath= '/content/drive/MyDrive/HED_out'\n",
        "outpath= '/content/drive/MyDrive/HED_crop'\n",
        "\n",
        "# Defining the box\n",
        "left = 1024\n",
        "top = 0\n",
        "right = 2048\n",
        "bottom = 1024\n",
        "\n",
        "for file in os.listdir(inpath):\n",
        "  filename = inpath + '/' + file\n",
        "  im = Image.open(filename)\n",
        "  im = im.crop((left, top, right, bottom))\n",
        "  ouputfile = outpath + '/' + file\n",
        "  im.save(ouputfile)"
      ],
      "metadata": {
        "id": "i3ONBlvyk8lL"
      },
      "execution_count": null,
      "outputs": []
    },
    {
      "cell_type": "code",
      "source": [
        "len(os.listdir(outpath))"
      ],
      "metadata": {
        "id": "gooh_P6uohKa"
      },
      "execution_count": null,
      "outputs": []
    }
  ]
}