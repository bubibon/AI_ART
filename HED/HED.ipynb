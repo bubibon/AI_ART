{
  "nbformat": 4,
  "nbformat_minor": 0,
  "metadata": {
    "colab": {
      "name": "HED",
      "provenance": [],
      "collapsed_sections": [],
      "machine_shape": "hm"
    },
    "kernelspec": {
      "name": "python3",
      "display_name": "Python 3"
    },
    "language_info": {
      "name": "python"
    },
    "accelerator": "GPU"
  },
  "cells": [
    {
      "cell_type": "markdown",
      "source": [
        "## Holistically-Nested Edge Detection\n",
        "https://arxiv.org/pdf/1504.06375.pdf \n",
        "\n",
        "code adapted from: https://github.com/ashukid/hed-edge-detector"
      ],
      "metadata": {
        "id": "JC6_OmfQE_md"
      }
    },
    {
      "cell_type": "code",
      "source": [
        "from google.colab import drive\n",
        "drive.mount('/content/drive')"
      ],
      "metadata": {
        "colab": {
          "base_uri": "https://localhost:8080/"
        },
        "id": "kR0r6504pdaY",
        "outputId": "160688e4-1c3c-40ad-bd7c-7f8305361ead"
      },
      "execution_count": null,
      "outputs": [
        {
          "output_type": "stream",
          "name": "stdout",
          "text": [
            "Mounted at /content/drive\n"
          ]
        }
      ]
    },
    {
      "cell_type": "code",
      "source": [
        "import os"
      ],
      "metadata": {
        "id": "UG_8ZUKZE-Cv"
      },
      "execution_count": null,
      "outputs": []
    },
    {
      "cell_type": "markdown",
      "source": [
        "To run this cell:\n",
        "-  put in the listdir and in the first part of filename the path to the folder containing the images onto which you want to perform HED (if on Colab remember to mount Drive)\n",
        "-  inside the 'edge_detector.py' change the path in line 50: \n",
        "imagename = im.replace(\"path/of/images/to/perform/HED\", \"path/where/you/want/to/save/HED\")"
      ],
      "metadata": {
        "id": "wbYJzGaJFWX_"
      }
    },
    {
      "cell_type": "code",
      "source": [
        "%cd /content/drive/MyDrive/HED"
      ],
      "metadata": {
        "colab": {
          "base_uri": "https://localhost:8080/"
        },
        "id": "sZyITcVAHWNV",
        "outputId": "c27fab31-79ba-4406-c0b6-eff81f21fbc4"
      },
      "execution_count": null,
      "outputs": [
        {
          "output_type": "stream",
          "name": "stdout",
          "text": [
            "/content/drive/.shortcut-targets-by-id/10nJQ590LvIKt9lnIWlBCoip73e_KLHuC/HED\n"
          ]
        }
      ]
    },
    {
      "cell_type": "code",
      "execution_count": null,
      "metadata": {
        "id": "S9btLYglEuA8"
      },
      "outputs": [],
      "source": [
        "for image in missing:\n",
        "    filename = '/content/drive/MyDrive/impressionist_landscapes_resized_1024/' + image\n",
        "    command = 'python edge_detector.py --input {} --prototxt deploy.prototxt --caffemodel hed_pretrained_bsds.caffemodel --width 1024 --height 1024'.format(filename) \n",
        "    os.system(command)"
      ]
    },
    {
      "cell_type": "code",
      "source": [
        "import PIL\n",
        "from PIL import Image"
      ],
      "metadata": {
        "id": "Z19yYMOysi7u"
      },
      "execution_count": null,
      "outputs": []
    },
    {
      "cell_type": "code",
      "source": [
        "len(os.listdir('/content/drive/MyDrive/HED_out'))"
      ],
      "metadata": {
        "colab": {
          "base_uri": "https://localhost:8080/"
        },
        "id": "n1BWjr2FoPj3",
        "outputId": "ce6695b8-bcc4-4ad6-c34a-de4a0b401fa3"
      },
      "execution_count": null,
      "outputs": [
        {
          "output_type": "execute_result",
          "data": {
            "text/plain": [
              "5000"
            ]
          },
          "metadata": {},
          "execution_count": 17
        }
      ]
    },
    {
      "cell_type": "code",
      "source": [
        "# Defining the input folder (HED outputfolder) and output folder (where you want to store just the HED image)\n",
        "inpath= '/content/drive/MyDrive/HED_out'\n",
        "outpath= '/content/drive/MyDrive/HED_crop'\n",
        "\n",
        "# Defining the box\n",
        "left = 1024\n",
        "top = 0\n",
        "right = 2048\n",
        "bottom = 1024\n",
        "\n",
        "for file in os.listdir(inpath):\n",
        "  filename = inpath + '/' + file\n",
        "  im = Image.open(filename)\n",
        "  im = im.crop((left, top, right, bottom))\n",
        "  ouputfile = outpath + '/' + file\n",
        "  im.save(ouputfile)"
      ],
      "metadata": {
        "id": "0YTiGRtUtbwD"
      },
      "execution_count": null,
      "outputs": []
    },
    {
      "cell_type": "code",
      "source": [
        "len(os.listdir(outpath))"
      ],
      "metadata": {
        "colab": {
          "base_uri": "https://localhost:8080/"
        },
        "id": "EXW6z0mQte2U",
        "outputId": "3cb016cb-bcbd-42fb-eebf-01cba0999cef"
      },
      "execution_count": null,
      "outputs": [
        {
          "output_type": "execute_result",
          "data": {
            "text/plain": [
              "5000"
            ]
          },
          "metadata": {},
          "execution_count": 19
        }
      ]
    },
    {
      "cell_type": "code",
      "source": [
        ""
      ],
      "metadata": {
        "id": "AfvfAchBs8vp"
      },
      "execution_count": null,
      "outputs": []
    }
  ]
}